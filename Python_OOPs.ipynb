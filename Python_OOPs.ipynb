{
  "nbformat": 4,
  "nbformat_minor": 0,
  "metadata": {
    "colab": {
      "provenance": []
    },
    "kernelspec": {
      "name": "python3",
      "display_name": "Python 3"
    },
    "language_info": {
      "name": "python"
    }
  },
  "cells": [
    {
      "cell_type": "markdown",
      "source": [
        "# Python OOPs Question\n"
      ],
      "metadata": {
        "id": "WDVszA79deiG"
      }
    },
    {
      "cell_type": "markdown",
      "source": [
        "Q1)What is Object-Oriented Programming (OOP)?\n",
        "###### Ans1)Object-Oriented Programming (OOP) is a programming paradigm based on the concept of \"objects\", which are instances of classes.\n",
        "Q2)What is a class in OOP?\n",
        "###### Ans2)In Object-Oriented Programming (OOP), a class is a blueprint or template used to create objects.\n",
        "Q3)What is an object in OOP?\n",
        "###### Ans3)In Object-Oriented Programming (OOP), an object is an instance of a class.\n",
        "Q4)What is the difference between abstraction and encapsulation?\n",
        "###### Ans4)Abstraction : Abstraction is the concept of hiding the internal implementation details and showing only the essential features of an object.\n",
        "######Encapsulation : Encapsulation is the technique of binding data and methods into a single unit (class) and restricting access to some of the object's components.\n",
        "Q5)What are dunder methods in Python?\n",
        "###### Ans5)Dunder methods in Python are methods that start and end with double underscores.\n",
        "Q6)Explain the concept of inheritance in OOP?\n",
        "###### Ans6)Inheritance is a fundamental concept in Object-Oriented Programming (OOP) that allows one class (child/derived class) to inherit the properties and behaviors (attributes and methods) of another class (parent/base class).\n",
        "Q7)What is polymorphism in OOP?\n",
        "###### Ans7)Polymorphism means \"many forms\", and in Object-Oriented Programming (OOP), it refers to the ability of different objects to respond to the same method or function in different ways.\n",
        "Q8)How is encapsulation achieved in Python?\n",
        "###### Ans8)Encapsulation in Python is achieved by restricting access to certain parts of an object, by:\n",
        "######1)Defining class attributes as private or protected\n",
        "######2)Providing public methods (getters/setters) to access or modify those attributes\n",
        "Q9)What is a constructor in Python?\n",
        "###### Ans9)In Python, a constructor is a special method called __init__() that is automatically invoked when a new object of a class is created.\n",
        "Q10)What are class and static methods in Python?\n",
        "###### Ans10)class methods : A class method is a method that operates on the class itself, not on instances. It takes cls (the class) as the first parameter.\n",
        "######static method : A static method is a method that doesn’t take 'self' or 'cls' as its first argument. It behaves like a regular function, just placed inside a class for organizational purposes.\n",
        "Q11)What is method overloading in Python?\n",
        "###### Ans11)Method overloading means defining multiple methods with the same name but different parameters (number or type). It allows a class to perform different tasks depending on the arguments passed.\n",
        "Q12)What is method overriding in OOP?\n",
        "###### Ans12)Method overriding is a feature in Object-Oriented Programming (OOP) that allows a subclass (child class) to provide a specific implementation of a method that is already defined in its superclass (parent class).\n",
        "Q13)What is a property decorator in Python?\n",
        "###### Ans13)The property decorator in Python is used to define a method as a getter, so it can be accessed like an attribute—without explicitly calling it.\n",
        "Q14)Why is polymorphism important in OOP?\n",
        "###### Ans14)Polymorphism is important in OOP because:\n",
        "######1)Code Reusability : Polymorphism lets you write general-purpose code that works with multiple object types.\n",
        "######2)Extensibility : New classes can be added with minimal changes to existing code.\n",
        "######3)Runtime Flexibility : At runtime, Python decides which version of a method to call depending on the object type.\n",
        "######4)Supports Abstraction : Polymorphism works hand-in-hand with abstraction, allowing you to focus on what an object does, not how it does it.\n",
        "Q15)What is an abstract class in Python?\n",
        "###### Ans15)In Python, an abstract class is a class that cannot be instantiated directly and serves as a blueprint or template for other classes.\n",
        "Q16)What are the advantages of OOP?\n",
        "###### Ans16)Advantages of OOP are :\n",
        "######1)Modularity : Code is organized into classes and objects.\n",
        "######2) Reusability : Once a class is written, it can be reused across multiple programs or projects.\n",
        "######3) Easy Maintenance : Code is easier to maintain, update, and debug due to its modular structure.\n",
        "######4)Encapsulation : Keeps data safe from outside interference by hiding internal details.\n",
        "Q17)What is the difference between a class variable and an instance variable?\n",
        "###### Ans17)Class Variable : Shared across all instances of the class. Defined inside the class, but outside any method.\n",
        "######Instance Variable : Unique to each object (instance) of the class. Defined inside methods using self.\n",
        "Q18)What is multiple inheritance in Python?\n",
        "###### Ans18)Multiple inheritance is a feature in Python where a child class can inherit from more than one parent class.\n",
        "Q19)Explain the purpose of ‘’__str__’ and ‘__repr__’ ‘ methods in Python?\n",
        "###### Ans19)In Python, both __str__() and __repr__() are special (dunder) methods used to define how objects of a class are represented as strings.\n",
        "Q20)What is the significance of the ‘super()’ function in Python?\n",
        "###### Ans20)The super() function in Python is used to call methods of a parent (or superclass) from within a child (subclass). It's especially useful in inheritance and method overriding.\n",
        "Q21)What is the significance of the __del__ method in Python?\n",
        "###### Ans21)The __del__() method in Python is known as the destructor. It is a special method that is automatically called when an object is about to be destroyed, typically when it goes out of scope or is explicitly deleted using del.\n",
        "Q22)What is the difference between @staticmethod and @classmethod in Python?\n",
        "###### Ans22)@staticmethod:\n",
        "######1)Does not take self (instance) or cls (class) as its first argument.\n",
        "######2)Cannot directly access or modify class-level or instance-level attributes.\n",
        "######3)Behaves like a regular function placed within the class's namespace for organizational purposes, often used for utility functions that logically belong to the class but don't depend on its state.\n",
        "@classmethod:\n",
        "######1)Takes the class itself (cls) as its first argument.\n",
        "######2)Can access and modify class-level attributes and call other class methods.\n",
        "######3)Commonly used for factory methods (creating instances in different ways) or operations that need to interact with the class state.\n",
        "\n",
        "Q23)How does polymorphism work in Python with inheritance?\n",
        "###### Ans23)Polymorphism work in Python with inheritance :\n",
        "######Step1:A parent class defines a method.\n",
        "######Step2:Child classes override that method.\n",
        "######Step3:When you call the method on an object, Python uses the method defined in the actual object’s class, not the reference type.\n",
        "Q24)What is method chaining in Python OOP?\n",
        "###### Ans24)Method chaining in Python refers to calling multiple methods on the same object in a single line, one after another. Each method returns the object itself (self), allowing the next method to be called on the same instance.\n",
        "Q25)What is the purpose of the __call__ method in Python?\n",
        "###### Ans25)The __call__() method in Python allows an instance of a class to be called like a function."
      ],
      "metadata": {
        "id": "n_9ciunI1DRA"
      }
    },
    {
      "cell_type": "markdown",
      "source": [
        "#  OOPs Practical Questions"
      ],
      "metadata": {
        "id": "558WMKondYfI"
      }
    },
    {
      "cell_type": "code",
      "source": [
        "# Q1)Create a parent class Animal with a method speak() that prints a generic message. Create a child class Dog that overrides the speak() method to print \"Bark!\"?\n",
        "class Animal:\n",
        "    def speak(self):\n",
        "        print(\"Generic animal sound\")\n",
        "\n",
        "class Dog(Animal):\n",
        "    def speak(self):\n",
        "        print(\"Bark!\")\n",
        "\n",
        "Dog().speak()"
      ],
      "metadata": {
        "colab": {
          "base_uri": "https://localhost:8080/"
        },
        "id": "yr3u8wRydS4P",
        "outputId": "0c0e232f-02c7-4f21-9f67-95cbd95e72dc"
      },
      "execution_count": 17,
      "outputs": [
        {
          "output_type": "stream",
          "name": "stdout",
          "text": [
            "Bark!\n"
          ]
        }
      ]
    },
    {
      "cell_type": "code",
      "source": [
        "# Q2)Write a program to create an abstract class Shape with a method area(). Derive classes Circle and Rectangle from it and implement the area() method in both?\n",
        "from abc import ABC, abstractmethod\n",
        "\n",
        "class Shape(ABC):\n",
        "    @abstractmethod\n",
        "    def area(self):\n",
        "        pass\n",
        "\n",
        "class Circle(Shape):\n",
        "    def area(self, radius):\n",
        "        return 3.14 * radius * radius\n",
        "\n",
        "class Rectangle(Shape):\n",
        "    def area(self, length, width):\n",
        "        return length * width"
      ],
      "metadata": {
        "id": "QrqIv-ZL0wKL"
      },
      "execution_count": 16,
      "outputs": []
    },
    {
      "cell_type": "code",
      "source": [
        "# Q3)Implement a multi-level inheritance scenario where a class Vehicle has an attribute type. Derive a class Car and further derive a class ElectricCar that adds a battery attribute?\n",
        "class Vehicle:\n",
        "    def __init__(self, vehicle_type):\n",
        "        self.type = vehicle_type\n",
        "\n",
        "class Car(Vehicle):\n",
        "    def __init__(self, car_type):\n",
        "        super().__init__(\"Car\")\n",
        "        self.car_type = car_type\n",
        "\n",
        "class ElectricCar(Car):\n",
        "    def __init__(self, car_type, battery_capacity):\n",
        "        super().__init__(car_type)\n",
        "        self.battery_capacity = battery_capacity"
      ],
      "metadata": {
        "id": "tGqqBAk98KAe"
      },
      "execution_count": 15,
      "outputs": []
    },
    {
      "cell_type": "code",
      "source": [
        "# Q4)Demonstrate polymorphism by creating a base class Bird with a method fly(). Create two derived classes Sparrow and Penguin that override the fly() method?\n",
        "class Bird:\n",
        "    def fly(self):\n",
        "        print(\"Generic bird flying\")\n",
        "\n",
        "class Sparrow(Bird):\n",
        "    def fly(self):\n",
        "        print(\"Sparrow flying\")\n",
        "\n",
        "class Penguin(Bird):\n",
        "    def fly(self):\n",
        "        print(\"Penguin cannot fly\")\n"
      ],
      "metadata": {
        "id": "qbW1sBNo4Nsu"
      },
      "execution_count": 14,
      "outputs": []
    },
    {
      "cell_type": "code",
      "source": [
        "# Q5)Write a program to demonstrate encapsulation by creating a class BankAccount with private attributes balance and methods to deposit, withdraw, and check balance?\n",
        "class BankAccount:\n",
        "    def __init__(self, initial_balance=0):\n",
        "        self.__balance = initial_balance\n",
        "\n",
        "    def deposit(self, amount):\n",
        "        if amount > 0:\n",
        "            self.__balance += amount\n",
        "            print(f\"Deposited: ₹{amount}\")\n",
        "        else:\n",
        "            print(\"Deposit amount must be positive.\")\n",
        "\n",
        "    def withdraw(self, amount):\n",
        "        if 0 < amount <= self.__balance:\n",
        "            self.__balance -= amount\n",
        "            print(f\"Withdrawn: ₹{amount}\")\n",
        "        else:\n",
        "            print(\"Insufficient balance or invalid amount.\")\n",
        "\n",
        "    def check_balance(self):\n",
        "        print(f\"Current Balance: ₹{self.__balance}\")\n"
      ],
      "metadata": {
        "id": "hmKYRuo84jOZ"
      },
      "execution_count": 13,
      "outputs": []
    },
    {
      "cell_type": "code",
      "source": [
        "# Q6)Demonstrate runtime polymorphism using a method play() in a base class Instrument. Derive classes Guitar and Piano that implement their own version of play()?\n",
        "from abc import ABC, abstractmethod\n",
        "\n",
        "class Instrument(ABC):\n",
        "    @abstractmethod\n",
        "    def play(self):\n",
        "        pass\n",
        "\n",
        "    def play_instrument(self):\n",
        "        self.play()\n",
        "\n",
        "class Guitar(Instrument):\n",
        "    def play(self):\n",
        "        print(\"Playing Guitar\")\n",
        "\n",
        "class Piano(Instrument):\n",
        "    def play(self):\n",
        "        print(\"Playing Piano\")"
      ],
      "metadata": {
        "id": "EQPxyLkt6OZf"
      },
      "execution_count": 12,
      "outputs": []
    },
    {
      "cell_type": "code",
      "source": [
        "# Q7)Create a class MathOperations with a class method add_numbers() to add two numbers and a static method subtract_numbers() to subtract two numbers?\n",
        "class MathOperations:\n",
        "    @classmethod\n",
        "    def add_numbers(cls, a, b):\n",
        "        return a + b\n",
        "\n",
        "    @staticmethod\n",
        "    def subtract_numbers(a, b):\n",
        "        return a - b\n"
      ],
      "metadata": {
        "id": "q06Ll9x3rKPx"
      },
      "execution_count": 11,
      "outputs": []
    },
    {
      "cell_type": "code",
      "source": [
        "# Q8)Implement a class Person with a class method to count the total number of persons created?\n",
        "class Person:\n",
        "    count = 0\n",
        "\n",
        "    def __init__(self):\n",
        "        Person.count += 1\n",
        "\n",
        "    @classmethod\n",
        "    def get_count(cls):\n",
        "        return cls.count"
      ],
      "metadata": {
        "id": "e-TZ752ar8V-"
      },
      "execution_count": 10,
      "outputs": []
    },
    {
      "cell_type": "code",
      "source": [
        "# Q9)Write a class Fraction with attributes numerator and denominator. Override the str method to display the fraction as \"numerator/denominator\"?\n",
        "class Fraction:\n",
        "    def __init__(self, numerator, denominator):\n",
        "        self.numerator = numerator\n",
        "        self.denominator = denominator\n",
        "\n",
        "    def __str__(self):\n",
        "        return f\"{self.numerator}/{self.denominator}\""
      ],
      "metadata": {
        "id": "WJIvNcCssNaL"
      },
      "execution_count": null,
      "outputs": []
    },
    {
      "cell_type": "code",
      "source": [
        "# Q10)Demonstrate operator overloading by creating a class Vector and overriding the add method to add two vectors?\n",
        "class Vector:\n",
        "    def __init__(self, x, y):\n",
        "        self.x = x\n",
        "        self.y = y\n",
        "\n",
        "    def __add__(self, other):\n",
        "        return Vector(self.x + other.x, self.y + other.y)"
      ],
      "metadata": {
        "id": "3_OVFz3Xsh6e"
      },
      "execution_count": 9,
      "outputs": []
    },
    {
      "cell_type": "code",
      "source": [
        "# Q11)Create a class Person with attributes name and age. Add a method greet() that prints \"Hello, my name is {name} and I am {age} years old\"?\n",
        "class Person:\n",
        "    def __init__(self, name, age):\n",
        "        self.name = name\n",
        "        self.age = age\n",
        "\n",
        "    def greet(self):\n",
        "        print(f\"Hello, my name is {self.name} and I am {self.age} years old.\")"
      ],
      "metadata": {
        "id": "8f4zgRO0svj3"
      },
      "execution_count": 8,
      "outputs": []
    },
    {
      "cell_type": "code",
      "source": [
        "# Q12)Implement a class Student with attributes name and grades. Create a method average_grade() to compute the average of the grades?\n",
        "class Student:\n",
        "    def __init__(self, name, grades):\n",
        "        self.name = name\n",
        "        self.grades = grades\n",
        "\n",
        "    def average_grade(self):\n",
        "        return sum(self.grades) / len(self.grades)"
      ],
      "metadata": {
        "id": "3bzkTiACtFuE"
      },
      "execution_count": 7,
      "outputs": []
    },
    {
      "cell_type": "code",
      "source": [
        "# Q13)Create a class Rectangle with methods set_dimensions() to set the dimensions and area() to calculate the area?\n",
        "class Rectangle:\n",
        "    def __init__(self):\n",
        "        self.length = 0\n",
        "        self.width = 0\n",
        "\n",
        "    def set_dimensions(self, length, width):\n",
        "        self.length = length\n",
        "        self.width = width\n",
        "\n",
        "    def area(self):\n",
        "        return self.width * self.length"
      ],
      "metadata": {
        "id": "4vN6oL08taiL"
      },
      "execution_count": 6,
      "outputs": []
    },
    {
      "cell_type": "code",
      "source": [
        "# Q14)Create a class Employee with a method calculate_salary() that computes the salary based on hours worked and hourly rate. Create a derived class Manager that adds a bonus to the salary?\n",
        "class Employee:\n",
        "    def __init__(self, name, hourly_rate, hours_worked):\n",
        "        self.name = name\n",
        "        self.hourly_rate = hourly_rate\n",
        "        self.hours_worked = hours_worked\n",
        "\n",
        "    def calculate_salary(self):\n",
        "        return self.hourly_rate *  self.hours_worked\n",
        "\n",
        "class Manager(Employee):\n",
        "    def __init__(self, name, hourly_rate, hours_worked, bonus_percentage):\n",
        "        super().__init__(name, hourly_rate, hours_worked)\n",
        "        self.bonus_percentage = bonus_percentage\n",
        "\n",
        "    def calculate_salary(self):\n",
        "        base_salary = super().calculate_salary()\n",
        "        bonus = (base_salary * self.bonus_percentage) / 100\n",
        "        return base_salary + bonus"
      ],
      "metadata": {
        "id": "e8YegmiwuCTM"
      },
      "execution_count": 5,
      "outputs": []
    },
    {
      "cell_type": "code",
      "source": [
        "# Q15)Create a class Product with attributes name, price, and quantity. Implement a method total_price() that calculates the total price of the product?\n",
        "class Product:\n",
        "    def __init__(self, name, price, quantity):\n",
        "        self.name = name\n",
        "        self.price = price\n",
        "        self.quantity = quantity\n",
        "\n",
        "    def total_price(self):\n",
        "        return self.price * self.quantity"
      ],
      "metadata": {
        "id": "5zXBEPLMvVhg"
      },
      "execution_count": 4,
      "outputs": []
    },
    {
      "cell_type": "code",
      "source": [
        "# Q16)Create a class Animal with an abstract method sound(). Create two derived classes Cow and Sheep that implement the sound() method?\n",
        "from abc import ABC, abstractmethod\n",
        "\n",
        "class Animal(ABC):\n",
        "    @abstractmethod\n",
        "    def sound(self):\n",
        "        pass\n",
        "\n",
        "class Cow(Animal):\n",
        "    def sound(self):\n",
        "        print(\"Moo!\")\n",
        "\n",
        "class Sheep(Animal):\n",
        "    def sound(self):\n",
        "        print(\"Baa!\")"
      ],
      "metadata": {
        "id": "BX83ziq2vp0Z"
      },
      "execution_count": 3,
      "outputs": []
    },
    {
      "cell_type": "code",
      "source": [
        "# Q17)Create a class Book with attributes title, author, and year_published. Add a method get_book_info() that returns a formatted string with the book's details?\n",
        "class Book:\n",
        "    def __init__(self, title, author, year_published):\n",
        "        self.title = title\n",
        "        self.author = author\n",
        "        self.year_published = year_published\n",
        "\n",
        "    def get_book_info(self):\n",
        "        return f\"Title: {self.title}\\nAuthor: {self.author}\\nYear Published: {self.year_published}\""
      ],
      "metadata": {
        "id": "NMfiDLomv_Ws"
      },
      "execution_count": 2,
      "outputs": []
    },
    {
      "cell_type": "code",
      "source": [
        "# Q18)Create a class House with attributes address and price. Create a derived class Mansion that adds an attribute number_of_rooms?\n",
        "class House:\n",
        "    def __init__(self, address, price):\n",
        "        self.address = address\n",
        "        self.price = price\n",
        "\n",
        "class Mansion(House):\n",
        "    def __init__(self, address, price, number_of_rooms):\n",
        "        super().__init__(address, price)\n",
        "        self.number_of_rooms = number_of_rooms"
      ],
      "metadata": {
        "id": "mwWXMDn_wfsW"
      },
      "execution_count": 1,
      "outputs": []
    }
  ]
}